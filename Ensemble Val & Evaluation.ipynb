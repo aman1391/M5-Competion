{
 "cells": [
  {
   "cell_type": "code",
   "execution_count": 1,
   "metadata": {},
   "outputs": [],
   "source": [
    "import pandas as pd\n",
    "import numpy as np\n",
    "import os\n",
    "from glob import glob"
   ]
  },
  {
   "cell_type": "code",
   "execution_count": 2,
   "metadata": {},
   "outputs": [
    {
     "name": "stdout",
     "output_type": "stream",
     "text": [
      "submission_final_validation_ensemble_bag_0.csv\n",
      "submission_final_validation_ensemble_bag_1.csv\n",
      "submission_final_validation_ensemble_bag_2.csv\n",
      "submission_final_validation_ensemble_bag_3.csv\n",
      "submission_final_validation_poisson_d_hpfilter.csv\n"
     ]
    }
   ],
   "source": [
    "#################Akhtar and Aman Validation average\n",
    "os.chdir('D:\\\\kaggle_competitions\\\\M5 Competition\\\\models_final\\\\results_val\\\\val')\n",
    "files=glob('*.csv')\n",
    "\n",
    "\n",
    "lst_ch=[]\n",
    "for i in range(len(files)):\n",
    "    df=pd.read_csv(files[i])\n",
    "    print(files[i])\n",
    "    poisson = df.sort_values(by = 'id').reset_index(drop = True)\n",
    "    lst_ch.append(poisson)\n",
    "    \n",
    "sub = poisson.copy()\n",
    "for i in sub.columns:\n",
    "    if i!='id':\n",
    "        sub[i]=(lst_ch[0][i]+lst_ch[1][i]+lst_ch[2][i]+lst_ch[3][i]+lst_ch[4][i])/5\n",
    "        \n",
    "sub.to_csv('average_validation_hpfilter_baggedresults.csv',index=False)\n"
   ]
  },
  {
   "cell_type": "code",
   "execution_count": 4,
   "metadata": {},
   "outputs": [
    {
     "name": "stdout",
     "output_type": "stream",
     "text": [
      "submission_eval_h5_features.csv\n",
      "submission_final_evaluation_0.csv\n",
      "submission_final_evaluation_1.csv\n",
      "submission_final_evaluation_2.csv\n",
      "submission_final_evaluation_3.csv\n"
     ]
    },
    {
     "data": {
      "text/plain": [
       "1281781.8268541992"
      ]
     },
     "execution_count": 4,
     "metadata": {},
     "output_type": "execute_result"
    }
   ],
   "source": [
    "#################Akhtar and Aman Evalution average\n",
    "os.chdir('D:\\\\kaggle_competitions\\\\M5 Competition\\\\models_final\\\\result_eval\\\\eval_forus')\n",
    "files=glob('*.csv')\n",
    "\n",
    "\n",
    "lst_ch=[]\n",
    "for i in range(len(files)):\n",
    "    df=pd.read_csv(files[i])\n",
    "    print(files[i])\n",
    "    poisson = df.sort_values(by = 'id').reset_index(drop = True)\n",
    "    lst_ch.append(poisson)\n",
    "    \n",
    "sub = poisson.copy()\n",
    "for i in sub.columns:\n",
    "    if i!='id':\n",
    "        sub[i]=(lst_ch[0][i]+lst_ch[1][i]+lst_ch[2][i]+lst_ch[3][i]+lst_ch[4][i])/5\n",
    "        \n",
    "sub.to_csv('average_evalution_hpfilter_baggedresults.csv',index=False)\n",
    "\n",
    "cols=[f for f in sub.columns if 'id' not in f]\n",
    "a=pd.DataFrame(sub[sub['id'].str.contains('evaluation')==True][cols].sum())\n",
    "a.columns=['sum']\n",
    "a['sum'].sum()\n",
    "\n",
    "\n"
   ]
  },
  {
   "cell_type": "code",
   "execution_count": 15,
   "metadata": {},
   "outputs": [
    {
     "name": "stdout",
     "output_type": "stream",
     "text": [
      "['average_evalution_hpfilter_baggedresults.csv', 'Point_forecast_valfullens_ds_evaluation_v20pks (for Aman).csv', 'submission_gluonts_m40_final.csv']\n",
      "average_evalution_hpfilter_baggedresults.csv\n",
      "Point_forecast_valfullens_ds_evaluation_v20pks (for Aman).csv\n",
      "submission_gluonts_m40_final.csv\n"
     ]
    }
   ],
   "source": [
    "################our model ensemble #####evaluation\n",
    "os.chdir('D:\\\\kaggle_competitions\\\\M5 Competition\\\\models_final\\\\result_eval\\\\final_eval')\n",
    "files=glob('*.csv')\n",
    "print(files)\n",
    "lst_ch=[]\n",
    "for i in range(len(files)):\n",
    "    df=pd.read_csv(files[i])\n",
    "    print(files[i])\n",
    "    poisson = df.sort_values(by = 'id').reset_index(drop = True)\n",
    "    lst_ch.append(poisson)\n",
    "\n",
    "sub = poisson.copy()\n",
    "\n",
    "#print(lst_ch[1].head())\n",
    "\n",
    "del lst_ch[1]['Unnamed: 0']\n",
    "\n",
    "#print(lst_ch[1].head())\n",
    "\n",
    "\n",
    "\n",
    "for i in sub.columns:\n",
    "    if i!='id':\n",
    "        sub[i]=(lst_ch[0][i]+lst_ch[1][i]+lst_ch[2][i])/3\n",
    "\n",
    "\n",
    "cols=[f for f in sub.columns if 'id' not in f]\n",
    "a=pd.DataFrame(sub[sub['id'].str.contains('evaluation')==True][cols].sum())\n",
    "a.columns=['sum']\n",
    "a['sum'].sum()\n",
    "\n",
    "\n",
    "sub.to_csv('ensemble_model_average_eval_simple_average_3models_final.csv',index=False)\n"
   ]
  },
  {
   "cell_type": "code",
   "execution_count": 16,
   "metadata": {},
   "outputs": [
    {
     "data": {
      "text/plain": [
       "1268783.5702022887"
      ]
     },
     "execution_count": 16,
     "metadata": {},
     "output_type": "execute_result"
    }
   ],
   "source": [
    "cols=[f for f in sub.columns if 'id' not in f]\n",
    "a=pd.DataFrame(sub[sub['id'].str.contains('evaluation')==True][cols].sum())\n",
    "a.columns=['sum']\n",
    "a['sum'].sum()\n",
    "\n"
   ]
  }
 ],
 "metadata": {
  "kernelspec": {
   "display_name": "Python 3",
   "language": "python",
   "name": "python3"
  },
  "language_info": {
   "codemirror_mode": {
    "name": "ipython",
    "version": 3
   },
   "file_extension": ".py",
   "mimetype": "text/x-python",
   "name": "python",
   "nbconvert_exporter": "python",
   "pygments_lexer": "ipython3",
   "version": "3.7.6"
  }
 },
 "nbformat": 4,
 "nbformat_minor": 4
}
